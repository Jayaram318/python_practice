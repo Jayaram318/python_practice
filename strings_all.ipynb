{
 "cells": [
  {
   "cell_type": "markdown",
   "metadata": {},
   "source": [
    "# Case Changing of Python String Methods\n",
    "- lower():it convert all lowercase\n",
    "- upper():it convert all upper\n",
    "- title(): Convert string to title case\n",
    "- swapcase():Swap the cases of all characters in a string\n",
    "- capitalize(): Convert the first character of a string to uppercase"
   ]
  },
  {
   "cell_type": "code",
   "execution_count": 13,
   "metadata": {},
   "outputs": [
    {
     "name": "stdout",
     "output_type": "stream",
     "text": [
      "\n",
      "converred string: \n",
      "hi good morning\n",
      "Hi Good Morning\n",
      "hi GOOD morning\n",
      "Hi good morning\n",
      " WELCOME TO PYTHON WORLD \n"
     ]
    }
   ],
   "source": [
    "text = 'HI good MORNING'\n",
    "print(\"\\nconverred string: \")\n",
    "print(text.lower())\n",
    "print(text.title())\n",
    "print(text.swapcase())\n",
    "print(text.capitalize())\n",
    "message = \" welcome to python world \"\n",
    "print(message.upper())"
   ]
  }
 ],
 "metadata": {
  "kernelspec": {
   "display_name": "Python 3",
   "language": "python",
   "name": "python3"
  },
  "language_info": {
   "codemirror_mode": {
    "name": "ipython",
    "version": 3
   },
   "file_extension": ".py",
   "mimetype": "text/x-python",
   "name": "python",
   "nbconvert_exporter": "python",
   "pygments_lexer": "ipython3",
   "version": "3.13.0"
  }
 },
 "nbformat": 4,
 "nbformat_minor": 2
}
